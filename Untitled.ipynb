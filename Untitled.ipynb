{
 "cells": [
  {
   "cell_type": "code",
   "execution_count": 59,
   "metadata": {},
   "outputs": [],
   "source": [
    "import io\n",
    "import os\n",
    "from tqdm import tqdm\n",
    "import sys\n",
    "import json\n",
    "\n",
    "from pdfminer.pdfinterp import PDFResourceManager, PDFPageInterpreter\n",
    "from pdfminer.pdfpage import PDFPage\n",
    "from pdfminer.converter import XMLConverter, HTMLConverter, TextConverter\n",
    "from pdfminer.layout import LAParams\n"
   ]
  },
  {
   "cell_type": "code",
   "execution_count": 55,
   "metadata": {
    "collapsed": true
   },
   "outputs": [],
   "source": [
    "def pdfparser(data):\n",
    "\n",
    "    fp = open(data, 'rb')\n",
    "    rsrcmgr = PDFResourceManager()\n",
    "    retstr = io.StringIO()\n",
    "    codec = 'utf-8'\n",
    "    laparams = LAParams()\n",
    "    device = TextConverter(rsrcmgr, retstr, codec=codec, laparams=laparams)\n",
    "    # Create a PDF interpreter object.\n",
    "    interpreter = PDFPageInterpreter(rsrcmgr, device)\n",
    "    # Process each page contained in the document.\n",
    "    \n",
    "    \n",
    "    for page in PDFPage.get_pages(fp):\n",
    "        interpreter.process_page(page)\n",
    "        data = retstr.getvalue()\n",
    "    fp.close()\n",
    "\n",
    "    return(data)\n"
   ]
  },
  {
   "cell_type": "code",
   "execution_count": 50,
   "metadata": {},
   "outputs": [
    {
     "ename": "ModuleNotFoundError",
     "evalue": "No module named 'frontend'",
     "output_type": "error",
     "traceback": [
      "\u001b[1;31m---------------------------------------------------------------------------\u001b[0m",
      "\u001b[1;31mModuleNotFoundError\u001b[0m                       Traceback (most recent call last)",
      "\u001b[1;32m<ipython-input-50-18d2afb7d9df>\u001b[0m in \u001b[0;36m<module>\u001b[1;34m()\u001b[0m\n\u001b[1;32m----> 1\u001b[1;33m \u001b[1;32mimport\u001b[0m \u001b[0mfitz\u001b[0m\u001b[1;33m\u001b[0m\u001b[0m\n\u001b[0m\u001b[0;32m      2\u001b[0m \u001b[1;33m\u001b[0m\u001b[0m\n\u001b[0;32m      3\u001b[0m \u001b[1;32mdef\u001b[0m \u001b[0mextract_image\u001b[0m\u001b[1;33m(\u001b[0m\u001b[0mpath\u001b[0m\u001b[1;33m)\u001b[0m\u001b[1;33m:\u001b[0m\u001b[1;33m\u001b[0m\u001b[0m\n\u001b[0;32m      4\u001b[0m     \u001b[0mdoc\u001b[0m \u001b[1;33m=\u001b[0m \u001b[0mfitz\u001b[0m\u001b[1;33m.\u001b[0m\u001b[0mopen\u001b[0m\u001b[1;33m(\u001b[0m\u001b[0mpath\u001b[0m\u001b[1;33m)\u001b[0m\u001b[1;33m\u001b[0m\u001b[0m\n\u001b[0;32m      5\u001b[0m     \u001b[1;32mfor\u001b[0m \u001b[0mi\u001b[0m \u001b[1;32min\u001b[0m \u001b[0mrange\u001b[0m\u001b[1;33m(\u001b[0m\u001b[0mlen\u001b[0m\u001b[1;33m(\u001b[0m\u001b[0mdoc\u001b[0m\u001b[1;33m)\u001b[0m\u001b[1;33m)\u001b[0m\u001b[1;33m:\u001b[0m\u001b[1;33m\u001b[0m\u001b[0m\n",
      "\u001b[1;32mC:\\ProgramData\\Anaconda3\\lib\\site-packages\\fitz\\__init__.py\u001b[0m in \u001b[0;36m<module>\u001b[1;34m()\u001b[0m\n\u001b[1;32m----> 1\u001b[1;33m \u001b[1;32mfrom\u001b[0m \u001b[0mfrontend\u001b[0m \u001b[1;32mimport\u001b[0m \u001b[1;33m*\u001b[0m\u001b[1;33m\u001b[0m\u001b[0m\n\u001b[0m\u001b[0;32m      2\u001b[0m \u001b[1;32mimport\u001b[0m \u001b[0mtools\u001b[0m\u001b[1;33m\u001b[0m\u001b[0m\n\u001b[0;32m      3\u001b[0m \u001b[1;32mimport\u001b[0m \u001b[0mos\u001b[0m\u001b[1;33m.\u001b[0m\u001b[0mpath\u001b[0m \u001b[1;32mas\u001b[0m \u001b[0mop\u001b[0m\u001b[1;33m\u001b[0m\u001b[0m\n\u001b[0;32m      4\u001b[0m \u001b[1;33m\u001b[0m\u001b[0m\n\u001b[0;32m      5\u001b[0m \u001b[0m__version__\u001b[0m \u001b[1;33m=\u001b[0m \u001b[1;34m'0.0.1dev2'\u001b[0m\u001b[1;33m\u001b[0m\u001b[0m\n",
      "\u001b[1;31mModuleNotFoundError\u001b[0m: No module named 'frontend'"
     ]
    }
   ],
   "source": [
    "import fitz\n",
    "\n",
    "def extract_image(path):\n",
    "    doc = fitz.open(path)\n",
    "    for i in range(len(doc)):\n",
    "        for img in doc.getPageImageList(i):\n",
    "            xref = img[0]\n",
    "            pix = fitz.Pixmap(doc, xref)\n",
    "            if pix.n < 5:       # this is GRAY or RGB\n",
    "                pix.writePNG(\"p%s-%s.png\" % (i, xref))\n",
    "            else:               # CMYK: convert to RGB first\n",
    "                pix1 = fitz.Pixmap(fitz.csRGB, pix)\n",
    "                pix1.writePNG(\"p%s-%s.png\" % (i, xref))\n",
    "                pix1 = None\n",
    "            pix = None"
   ]
  },
  {
   "cell_type": "code",
   "execution_count": 56,
   "metadata": {},
   "outputs": [
    {
     "data": {
      "text/plain": [
       "'Ad ID 79\\n\\nAd Text ?????? ??? ????? ? ??????????\\n\\nAd Landing Page\\n\\nhttps://www.facebook.com/pages/L-for-life/994910227187446\\n\\nAd Targeting\\n\\nLocation: United States\\nExcluded Connections: Exclude people who like L for life\\nAge: 18 - 65+\\nLanguage: English (UK) or English (US)\\nPlacements: News Feed on desktop computers, News Feed on mobile\\ndevices or Right column on desktop computers\\n\\nAd Impressions\\n\\n31\\n\\nAd Clicks\\n\\n0\\n\\nAd Spend\\n\\n33.59 RUB\\n\\nAd Creation Date\\n\\n06/09/15 03:50:21 AM PDT\\n\\nAd End Date\\n\\n06/11/15 03:48:00 AM PDT\\n\\nP(1)0001844\\n\\nRedactions Completed at the Direction of Ranking Member of the US House Permanent Select Committee on Intelligence\\x0cSuggested Page\\n\\nL for life\\nSponsored\\n\\n)KypHan 411H Y%IHbIVl o HaXoLi-m 3bIX\\n\\nL for life\\nMagazine\\n1 person likes this.\\n\\n,dr  Like Page\\n\\nP(1)0001845\\n\\nRedactions Completed at the Direction of Ranking Member of the US House Permanent Select Committee on Intelligence\\x0c'"
      ]
     },
     "execution_count": 56,
     "metadata": {},
     "output_type": "execute_result"
    }
   ],
   "source": [
    "a = pdfparser('2015-06/P(1)0001844.pdf')\n",
    "a"
   ]
  },
  {
   "cell_type": "code",
   "execution_count": 37,
   "metadata": {},
   "outputs": [],
   "source": [
    "a = a.split('\\n\\n')"
   ]
  },
  {
   "cell_type": "code",
   "execution_count": 47,
   "metadata": {},
   "outputs": [
    {
     "data": {
      "text/plain": [
       "['Ad ID',\n",
       " '374',\n",
       " 'Ad Text',\n",
       " 'Join us because we care. Black matters.',\n",
       " 'Ad Landing Page',\n",
       " 'https://www.facebook.com/Black-Matters-1579673598947501 /',\n",
       " 'Ad Targeting',\n",
       " 'Location: United States: Baltimore (+20 km) Maryland; St. Louis (+20 km)\\nMissouri\\nExcluded Connections: Exclude people who like Black Matters\\nAge: 18 - 65+\\nLanguage: English (UK) or English (US)\\nPlacements: News Feed on desktop computers or News Feed on mobile\\ndevices',\n",
       " 'Ad Impressions',\n",
       " '137',\n",
       " 'Ad Clicks',\n",
       " '0',\n",
       " 'Ad Spend',\n",
       " '44.87 RUB',\n",
       " 'Ad Creation Date',\n",
       " '06/10/15 02:59:53 AM PDT',\n",
       " 'P(1)0000054']"
      ]
     },
     "execution_count": 47,
     "metadata": {},
     "output_type": "execute_result"
    }
   ],
   "source": [
    "stop = [i for i, s in enumerate(a) if 'Redactions Completed' in s][0]\n",
    "a[:stop]"
   ]
  },
  {
   "cell_type": "code",
   "execution_count": 92,
   "metadata": {},
   "outputs": [
    {
     "name": "stderr",
     "output_type": "stream",
     "text": [
      "100%|█████████████████████████████████████████| 87/87 [17:20<00:00, 11.96s/it]\n"
     ]
    }
   ],
   "source": [
    "texts = []\n",
    "folder = \"2015-09\"\n",
    "for p in tqdm(os.listdir(folder)):\n",
    "    a = pdfparser(folder + '/' + p)\n",
    "    a = a.split('\\n\\n')\n",
    "    stop = [i for i, s in enumerate(a) if 'Redactions Completed' in s][0]\n",
    "    a = [str(s).strip() for s in a[:stop]] # remove empty paragraphs\n",
    "    texts.append(a)"
   ]
  },
  {
   "cell_type": "code",
   "execution_count": 93,
   "metadata": {},
   "outputs": [
    {
     "data": {
      "text/plain": [
       "[['Ad ID 561',\n",
       "  'Ad Text SCOTUS RULES AGAINST KENTUCKY CLERK IN GAY MARRIAGE CASE\\nThe Supreme Court on Monday evening denied a Kentucky clerk\\'s request to\\nkeep enforcing her \"no marriage licenses\" policy — an attempt to avoid\\nissuing marriage licenses to same-sex couples — while she appeals the trial\\ncourt\\'s preliminary ruling.',\n",
       "  'Rowan County Clerk Kim Davis will have to choose whether to issue marriage\\nlicenses, defying her Christian conviction, or continue to refuse them, defying\\na federal judge who could pummel her with fines or order that she be hauled\\noff to jail.',\n",
       "  \"For Ms. Davis to enact her own personal policy is completely unacceptable.\\nShe is on her fourth marriage, a sinner according to her Bible, yet she's\\nscreaming about religious convictions. What a hypocrite!\\nAnd she doesn't even perform the ceremony, only issue a license. What her\\nreligious convictions has to do with it?? It's not up to her to make policy, it's\\nher role only to enact it!\",\n",
       "  'Funny how all these \"Christians\" are preaching and practicing all this hate,\\neh?',\n",
       "  'If Jesus were around today, his response would be most likely, \"What the hell\\nis wrong with you people!\"',\n",
       "  '#SameSexMarriage #MarriageEquality #Kentucky #SCOTUS #homophobia\\n#bigotry',\n",
       "  'Ad Landing Page',\n",
       "  'https://www.facebook.com/LGBT-United-839497472793277/',\n",
       "  'Ad Targeting',\n",
       "  'Location: United States\\nAge: 18 - 65+\\nPlacements: News Feed on desktop computers or News Feed on mobile\\ndevices\\nPeople Who Match: People who like LGBT United, Friends of connections:\\nFriends of people who are connected to LGBT United',\n",
       "  'Ad Impressions',\n",
       "  '8,111',\n",
       "  'Ad Clicks',\n",
       "  '951',\n",
       "  'Ad Spend',\n",
       "  '500.00 RUB',\n",
       "  'Ad Creation Date',\n",
       "  '09/01/15 07:44:55 AM PDT',\n",
       "  'Ad End Date',\n",
       "  '09/03/15 07:44:00 AM PDT',\n",
       "  'P(1)0000122'],\n",
       " ['Ad ID',\n",
       "  '1576',\n",
       "  'Ad Text',\n",
       "  'We want to live in the country with no fear!',\n",
       "  'Ad Landing Page',\n",
       "  'https://www.facebook.com/BlackJourney2Justice/',\n",
       "  'Ad Targeting',\n",
       "  \"Location: United States\\nInterests: cop block or Cop Block\\nExcluded Connections: Exclude people who like Don't Shoot\\nAge: 18 - 65+\\nLanguage: English (UK) or English (US)\\nPlacements: News Feed on desktop computers or News Feed on mobile\\ndevices\",\n",
       "  'Ad Impressions',\n",
       "  '0',\n",
       "  'Ad Clicks',\n",
       "  '0',\n",
       "  'Ad Spend',\n",
       "  '0.00',\n",
       "  'Ad Creation Date',\n",
       "  '09/23/15 04:47:56 AM PDT',\n",
       "  'P(1)0000427'],\n",
       " ['Ad ID',\n",
       "  '1584',\n",
       "  'Ad Text',\n",
       "  'We run this community because we care...',\n",
       "  'Ad Landing Page',\n",
       "  'https://www.facebook.com/BlackJourney2Justice/',\n",
       "  'Ad Targeting',\n",
       "  \"Location: United States\\nInterests: cop block or Cop Block\\nExcluded Connections: Exclude people who like Don't Shoot\\nAge: 18 - 65+\\nLanguage: English (UK) or English (US)\\nPlacements: News Feed on desktop computers or News Feed on mobile\\ndevices\",\n",
       "  'Ad Impressions',\n",
       "  '0',\n",
       "  'Ad Clicks',\n",
       "  '0',\n",
       "  'Ad Spend',\n",
       "  '0.00',\n",
       "  'Ad Creation Date',\n",
       "  '09/23/15 04:47:25 AM PDT',\n",
       "  'P(1)0000435']]"
      ]
     },
     "execution_count": 93,
     "metadata": {},
     "output_type": "execute_result"
    }
   ],
   "source": [
    "texts[0:3]"
   ]
  },
  {
   "cell_type": "code",
   "execution_count": 94,
   "metadata": {},
   "outputs": [],
   "source": [
    "with open('parsed/2015-09.txt', 'w') as outfile:\n",
    "    json.dump(texts, outfile)"
   ]
  }
 ],
 "metadata": {
  "kernelspec": {
   "display_name": "Python 3",
   "language": "python",
   "name": "python3"
  },
  "language_info": {
   "codemirror_mode": {
    "name": "ipython",
    "version": 3
   },
   "file_extension": ".py",
   "mimetype": "text/x-python",
   "name": "python",
   "nbconvert_exporter": "python",
   "pygments_lexer": "ipython3",
   "version": "3.6.3"
  }
 },
 "nbformat": 4,
 "nbformat_minor": 2
}
