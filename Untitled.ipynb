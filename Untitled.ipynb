{
 "cells": [
  {
   "cell_type": "code",
   "execution_count": 59,
   "metadata": {},
   "outputs": [],
   "source": [
    "import io\n",
    "import os\n",
    "from tqdm import tqdm\n",
    "import sys\n",
    "import json\n",
    "\n",
    "from pdfminer.pdfinterp import PDFResourceManager, PDFPageInterpreter\n",
    "from pdfminer.pdfpage import PDFPage\n",
    "from pdfminer.converter import XMLConverter, HTMLConverter, TextConverter\n",
    "from pdfminer.layout import LAParams\n"
   ]
  },
  {
   "cell_type": "code",
   "execution_count": 55,
   "metadata": {
    "collapsed": true
   },
   "outputs": [],
   "source": [
    "def pdfparser(data):\n",
    "\n",
    "    fp = open(data, 'rb')\n",
    "    rsrcmgr = PDFResourceManager()\n",
    "    retstr = io.StringIO()\n",
    "    codec = 'utf-8'\n",
    "    laparams = LAParams()\n",
    "    device = TextConverter(rsrcmgr, retstr, codec=codec, laparams=laparams)\n",
    "    # Create a PDF interpreter object.\n",
    "    interpreter = PDFPageInterpreter(rsrcmgr, device)\n",
    "    # Process each page contained in the document.\n",
    "    \n",
    "    \n",
    "    for page in PDFPage.get_pages(fp):\n",
    "        interpreter.process_page(page)\n",
    "        data = retstr.getvalue()\n",
    "    fp.close()\n",
    "\n",
    "    return(data)\n"
   ]
  },
  {
   "cell_type": "code",
   "execution_count": 50,
   "metadata": {},
   "outputs": [
    {
     "ename": "ModuleNotFoundError",
     "evalue": "No module named 'frontend'",
     "output_type": "error",
     "traceback": [
      "\u001b[1;31m---------------------------------------------------------------------------\u001b[0m",
      "\u001b[1;31mModuleNotFoundError\u001b[0m                       Traceback (most recent call last)",
      "\u001b[1;32m<ipython-input-50-18d2afb7d9df>\u001b[0m in \u001b[0;36m<module>\u001b[1;34m()\u001b[0m\n\u001b[1;32m----> 1\u001b[1;33m \u001b[1;32mimport\u001b[0m \u001b[0mfitz\u001b[0m\u001b[1;33m\u001b[0m\u001b[0m\n\u001b[0m\u001b[0;32m      2\u001b[0m \u001b[1;33m\u001b[0m\u001b[0m\n\u001b[0;32m      3\u001b[0m \u001b[1;32mdef\u001b[0m \u001b[0mextract_image\u001b[0m\u001b[1;33m(\u001b[0m\u001b[0mpath\u001b[0m\u001b[1;33m)\u001b[0m\u001b[1;33m:\u001b[0m\u001b[1;33m\u001b[0m\u001b[0m\n\u001b[0;32m      4\u001b[0m     \u001b[0mdoc\u001b[0m \u001b[1;33m=\u001b[0m \u001b[0mfitz\u001b[0m\u001b[1;33m.\u001b[0m\u001b[0mopen\u001b[0m\u001b[1;33m(\u001b[0m\u001b[0mpath\u001b[0m\u001b[1;33m)\u001b[0m\u001b[1;33m\u001b[0m\u001b[0m\n\u001b[0;32m      5\u001b[0m     \u001b[1;32mfor\u001b[0m \u001b[0mi\u001b[0m \u001b[1;32min\u001b[0m \u001b[0mrange\u001b[0m\u001b[1;33m(\u001b[0m\u001b[0mlen\u001b[0m\u001b[1;33m(\u001b[0m\u001b[0mdoc\u001b[0m\u001b[1;33m)\u001b[0m\u001b[1;33m)\u001b[0m\u001b[1;33m:\u001b[0m\u001b[1;33m\u001b[0m\u001b[0m\n",
      "\u001b[1;32mC:\\ProgramData\\Anaconda3\\lib\\site-packages\\fitz\\__init__.py\u001b[0m in \u001b[0;36m<module>\u001b[1;34m()\u001b[0m\n\u001b[1;32m----> 1\u001b[1;33m \u001b[1;32mfrom\u001b[0m \u001b[0mfrontend\u001b[0m \u001b[1;32mimport\u001b[0m \u001b[1;33m*\u001b[0m\u001b[1;33m\u001b[0m\u001b[0m\n\u001b[0m\u001b[0;32m      2\u001b[0m \u001b[1;32mimport\u001b[0m \u001b[0mtools\u001b[0m\u001b[1;33m\u001b[0m\u001b[0m\n\u001b[0;32m      3\u001b[0m \u001b[1;32mimport\u001b[0m \u001b[0mos\u001b[0m\u001b[1;33m.\u001b[0m\u001b[0mpath\u001b[0m \u001b[1;32mas\u001b[0m \u001b[0mop\u001b[0m\u001b[1;33m\u001b[0m\u001b[0m\n\u001b[0;32m      4\u001b[0m \u001b[1;33m\u001b[0m\u001b[0m\n\u001b[0;32m      5\u001b[0m \u001b[0m__version__\u001b[0m \u001b[1;33m=\u001b[0m \u001b[1;34m'0.0.1dev2'\u001b[0m\u001b[1;33m\u001b[0m\u001b[0m\n",
      "\u001b[1;31mModuleNotFoundError\u001b[0m: No module named 'frontend'"
     ]
    }
   ],
   "source": [
    "import fitz\n",
    "\n",
    "def extract_image(path):\n",
    "    doc = fitz.open(path)\n",
    "    for i in range(len(doc)):\n",
    "        for img in doc.getPageImageList(i):\n",
    "            xref = img[0]\n",
    "            pix = fitz.Pixmap(doc, xref)\n",
    "            if pix.n < 5:       # this is GRAY or RGB\n",
    "                pix.writePNG(\"p%s-%s.png\" % (i, xref))\n",
    "            else:               # CMYK: convert to RGB first\n",
    "                pix1 = fitz.Pixmap(fitz.csRGB, pix)\n",
    "                pix1.writePNG(\"p%s-%s.png\" % (i, xref))\n",
    "                pix1 = None\n",
    "            pix = None"
   ]
  },
  {
   "cell_type": "code",
   "execution_count": 56,
   "metadata": {},
   "outputs": [
    {
     "data": {
      "text/plain": [
       "'Ad ID 79\\n\\nAd Text ?????? ??? ????? ? ??????????\\n\\nAd Landing Page\\n\\nhttps://www.facebook.com/pages/L-for-life/994910227187446\\n\\nAd Targeting\\n\\nLocation: United States\\nExcluded Connections: Exclude people who like L for life\\nAge: 18 - 65+\\nLanguage: English (UK) or English (US)\\nPlacements: News Feed on desktop computers, News Feed on mobile\\ndevices or Right column on desktop computers\\n\\nAd Impressions\\n\\n31\\n\\nAd Clicks\\n\\n0\\n\\nAd Spend\\n\\n33.59 RUB\\n\\nAd Creation Date\\n\\n06/09/15 03:50:21 AM PDT\\n\\nAd End Date\\n\\n06/11/15 03:48:00 AM PDT\\n\\nP(1)0001844\\n\\nRedactions Completed at the Direction of Ranking Member of the US House Permanent Select Committee on Intelligence\\x0cSuggested Page\\n\\nL for life\\nSponsored\\n\\n)KypHan 411H Y%IHbIVl o HaXoLi-m 3bIX\\n\\nL for life\\nMagazine\\n1 person likes this.\\n\\n,dr  Like Page\\n\\nP(1)0001845\\n\\nRedactions Completed at the Direction of Ranking Member of the US House Permanent Select Committee on Intelligence\\x0c'"
      ]
     },
     "execution_count": 56,
     "metadata": {},
     "output_type": "execute_result"
    }
   ],
   "source": [
    "a = pdfparser('2015-06/P(1)0001844.pdf')\n",
    "a"
   ]
  },
  {
   "cell_type": "code",
   "execution_count": 37,
   "metadata": {},
   "outputs": [],
   "source": [
    "a = a.split('\\n\\n')"
   ]
  },
  {
   "cell_type": "code",
   "execution_count": 47,
   "metadata": {},
   "outputs": [
    {
     "data": {
      "text/plain": [
       "['Ad ID',\n",
       " '374',\n",
       " 'Ad Text',\n",
       " 'Join us because we care. Black matters.',\n",
       " 'Ad Landing Page',\n",
       " 'https://www.facebook.com/Black-Matters-1579673598947501 /',\n",
       " 'Ad Targeting',\n",
       " 'Location: United States: Baltimore (+20 km) Maryland; St. Louis (+20 km)\\nMissouri\\nExcluded Connections: Exclude people who like Black Matters\\nAge: 18 - 65+\\nLanguage: English (UK) or English (US)\\nPlacements: News Feed on desktop computers or News Feed on mobile\\ndevices',\n",
       " 'Ad Impressions',\n",
       " '137',\n",
       " 'Ad Clicks',\n",
       " '0',\n",
       " 'Ad Spend',\n",
       " '44.87 RUB',\n",
       " 'Ad Creation Date',\n",
       " '06/10/15 02:59:53 AM PDT',\n",
       " 'P(1)0000054']"
      ]
     },
     "execution_count": 47,
     "metadata": {},
     "output_type": "execute_result"
    }
   ],
   "source": [
    "stop = [i for i, s in enumerate(a) if 'Redactions Completed' in s][0]\n",
    "a[:stop]"
   ]
  },
  {
   "cell_type": "code",
   "execution_count": null,
   "metadata": {},
   "outputs": [
    {
     "name": "stderr",
     "output_type": "stream",
     "text": [
      " 21%|████████▍                                | 18/87 [04:13<16:10, 14.06s/it]"
     ]
    }
   ],
   "source": [
    "texts = []\n",
    "folder = \"2015-09\"\n",
    "for p in tqdm(os.listdir(folder)):\n",
    "    a = pdfparser(folder + '/' + p)\n",
    "    a = a.split('\\n\\n')\n",
    "    stop = [i for i, s in enumerate(a) if 'Redactions Completed' in s][0]\n",
    "    a = [str(s).strip() for s in a[:stop]] # remove empty paragraphs\n",
    "    texts.append(a)"
   ]
  },
  {
   "cell_type": "code",
   "execution_count": 88,
   "metadata": {},
   "outputs": [
    {
     "data": {
      "text/plain": [
       "[['Ad ID 418',\n",
       "  \"Ad Text What's life of black American today? How equal are we?\",\n",
       "  \"Have you ever been hurt by aggressive police officers because of your race?\\nWhat's your story?\",\n",
       "  'Take an action and tell us your story and we post it on \"Black Matters\". We\\ndon\\'t want our community to continue struggling with racism and police\\naggression. We want to fight back and to show how strong we are.',\n",
       "  'Add your voice by sharing your experiences with us. You can send your story\\nto blackmattersus@gmail.com or you can message us via Facebook anonym.\\nor not.',\n",
       "  'Being black in America comes with extra obstacles but together we call for\\npowerful justice!',\n",
       "  'Tell your story!',\n",
       "  'Ad Landing Page',\n",
       "  'https://www.facebook.com/Black-Matters-1579673598947501 /',\n",
       "  'Ad Targeting',\n",
       "  'Location: United States: Baltimore Maryland; Ferguson, St. Louis Missouri;\\nCleveland Ohio\\nAge: 18 - 65+\\nPlacements: News Feed on desktop computers or News Feed on mobile\\ndevices\\nPeople Who Match: People who like Black Matters, Friends of connections:\\nFriends of people who are connected to Black Matters',\n",
       "  'Ad Impressions',\n",
       "  '0',\n",
       "  'Ad Clicks',\n",
       "  '0',\n",
       "  'Ad Spend',\n",
       "  'None',\n",
       "  'Ad Creation Date',\n",
       "  '07/08/15 07:23:45 AM PDT',\n",
       "  'Ad End Date',\n",
       "  '07/10/15 05:23:00 PM PDT',\n",
       "  'P(1)0000056'],\n",
       " ['Ad ID',\n",
       "  '491',\n",
       "  'Ad Text',\n",
       "  \"1  absolutely love this picture. I  can't explain why, but just everything about it\\nmakes it kind of dusty in here....\",\n",
       "  'Ad Landing Page',\n",
       "  'https://www.facebook.com/patriototus',\n",
       "  'Ad Targeting',\n",
       "  'Location: United States\\nAge: 18 - 65+\\nPlacements: News Feed on desktop computers or News Feed on mobile\\ndevices\\nPeople Who Match: People who like Being Patriotic, Friends of connections:\\nFriends of people who are connected to Being Patriotic',\n",
       "  'Ad Impressions',\n",
       "  '635',\n",
       "  'Ad Clicks',\n",
       "  '52',\n",
       "  'Ad Spend',\n",
       "  '80.79 RUB',\n",
       "  'Ad Creation Date',\n",
       "  '07/15/15 08:28:48 AM PDT',\n",
       "  'Ad End Date',\n",
       "  '07/16/15 08:28:48 AM PDT',\n",
       "  'P(1)0000092'],\n",
       " ['Ad ID  495',\n",
       "  'Ad  Text  This cute babe is a fan  of the  Patriots! What is your favorite  NFL team?',\n",
       "  'Ad  Landing  Page  https://www.facebook.com/patriototus',\n",
       "  'Ad Targeting  Location:  United States',\n",
       "  'Age:  18 - 65+ \\nPlacements:  News Feed on desktop computers or News Feed on  mobile \\ndevices \\nPeople Who Match:  People who like Being  Patriotic,  Friends of connections: \\nFriends of people who are connected to Being  Patriotic',\n",
       "  'Ad  Impressions  975',\n",
       "  'Ad  Clicks  41 \\nAd  Spend  461.56 RUB',\n",
       "  'Ad  Creation  Date  07/17/15 12:55:09 AM  PDT \\nAd  End  Date  07/20/15 12:55:08 AM  PDT',\n",
       "  '',\n",
       "  'P(1 )0000096']]"
      ]
     },
     "execution_count": 88,
     "metadata": {},
     "output_type": "execute_result"
    }
   ],
   "source": [
    "texts[0:3]"
   ]
  },
  {
   "cell_type": "code",
   "execution_count": 91,
   "metadata": {},
   "outputs": [],
   "source": [
    "with open('parsed/2015-09.txt', 'w') as outfile:\n",
    "    json.dump(texts, outfile)"
   ]
  }
 ],
 "metadata": {
  "kernelspec": {
   "display_name": "Python 3",
   "language": "python",
   "name": "python3"
  },
  "language_info": {
   "codemirror_mode": {
    "name": "ipython",
    "version": 3
   },
   "file_extension": ".py",
   "mimetype": "text/x-python",
   "name": "python",
   "nbconvert_exporter": "python",
   "pygments_lexer": "ipython3",
   "version": "3.6.3"
  }
 },
 "nbformat": 4,
 "nbformat_minor": 2
}
